{
 "cells": [
  {
   "cell_type": "markdown",
   "id": "b07a47d2",
   "metadata": {},
   "source": [
    "# Linear Regression"
   ]
  },
  {
   "cell_type": "code",
   "execution_count": 1,
   "id": "5beeb503",
   "metadata": {},
   "outputs": [],
   "source": [
    "import numpy as np"
   ]
  },
  {
   "cell_type": "code",
   "execution_count": null,
   "id": "64d0afb5",
   "metadata": {},
   "outputs": [],
   "source": [
    "class Linear_Regression :\n",
    "    def __init__(self , learning_rating = 0.01 , epochs = 100):\n",
    "        self.learning_rating = learning_rating\n",
    "        self.epochs = epochs\n",
    "        self.weight = 0\n",
    "        self.bias = 0\n",
    "\n",
    "    def predict(self , x):  \n",
    "        return self.weight * x + self.bias\n",
    "\n",
    "    def compute_loss(self , y_true , y_pred) :\n",
    "        return np.mean((y_true - y_pred)**2) # MSE - Mean Square Error \n",
    "    \n",
    "    def fit(self,x,y):\n",
    "        n = len(x) # number of data points \n",
    "\n",
    "        for i in range(self.epochs):\n",
    "            y_pred = self.predict(x)\n",
    "            dw = (-2/n)*np.sum(x * (y-y_pred))\n",
    "            db = (-2/n)*np.sum((y-y_pred))\n",
    "            self.weight -= self.learning_rating * dw\n",
    "            self.bias -= self.learning_rating * db\n",
    "    \n",
    "    def evaluate(self,x,y):\n",
    "        y_pred = self.predict(x)\n",
    "        loss = self.compute_loss(y,y_pred)\n",
    "        print(loss , y_pred)\n",
    "\n",
    "    "
   ]
  },
  {
   "cell_type": "code",
   "execution_count": null,
   "id": "e2013a8f",
   "metadata": {},
   "outputs": [
    {
     "name": "stdout",
     "output_type": "stream",
     "text": [
      "0.0800004080095608 [ 1.4010825  3.6006678  5.8002531  7.9998384 10.1994237]\n"
     ]
    },
    {
     "data": {
      "text/plain": [
       "np.float64(12.399009000420103)"
      ]
     },
     "execution_count": 16,
     "metadata": {},
     "output_type": "execute_result"
    }
   ],
   "source": [
    "x = np.array([1,2,3,4,5])\n",
    "y = np.array([1,4,6,8,10])\n",
    "\n",
    "model = Linear_Regression()\n",
    "\n",
    "model.fit(x,y)\n",
    "model.evaluate(x,y)"
   ]
  },
  {
   "cell_type": "code",
   "execution_count": null,
   "id": "cd45490e",
   "metadata": {},
   "outputs": [],
   "source": []
  }
 ],
 "metadata": {
  "kernelspec": {
   "display_name": "Python 3",
   "language": "python",
   "name": "python3"
  },
  "language_info": {
   "codemirror_mode": {
    "name": "ipython",
    "version": 3
   },
   "file_extension": ".py",
   "mimetype": "text/x-python",
   "name": "python",
   "nbconvert_exporter": "python",
   "pygments_lexer": "ipython3",
   "version": "3.12.1"
  }
 },
 "nbformat": 4,
 "nbformat_minor": 5
}
